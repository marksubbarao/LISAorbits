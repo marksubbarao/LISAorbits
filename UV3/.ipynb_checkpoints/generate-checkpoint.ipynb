{
 "cells": [
  {
   "cell_type": "markdown",
   "metadata": {},
   "source": [
    "### Imports and function definitions"
   ]
  },
  {
   "cell_type": "code",
   "execution_count": 1,
   "metadata": {
    "collapsed": false
   },
   "outputs": [],
   "source": [
    "#This directory contains all the data needed for the module. It should be in the same directory as the notebook\n",
    "dataFolder = \"data\" \n",
    "import sys, os, shutil, errno, string, urllib\n",
    "\n",
    "\n",
    "sys.path.append(( os.path.abspath( os.path.join(os.path.realpath(\"__file__\"),  os.pardir, os.pardir) )))\n",
    "import uvmodlib.v1 as uvmod"
   ]
  },
  {
   "cell_type": "code",
   "execution_count": 2,
   "metadata": {
    "collapsed": true
   },
   "outputs": [],
   "source": [
    "# Run this if you want to build in 3.0 rather than 2.0\n",
    "from config import Settings\n",
    "Settings.uvcustommodulelocation='C:\\\\Users\\\\msubbarao\\\\SCISS\\\\Uniview Theater 3.0\\\\Custom Modules'"
   ]
  },
  {
   "cell_type": "markdown",
   "metadata": {},
   "source": [
    "### USES Conf Templates"
   ]
  },
  {
   "cell_type": "code",
   "execution_count": 3,
   "metadata": {
    "collapsed": true
   },
   "outputs": [],
   "source": [
    "Template='''mesh\n",
    "{\n",
    "    data spacecrafts ./modules/$folderName/LISA.uvstream\n",
    "    dataHints particles disablePostprocessing\n",
    "\n",
    "    # use a radius to avoid frustum culling\n",
    "    #cullRadius $cr\n",
    "    glslVersion 420 \n",
    "\n",
    "    propertyCollection\n",
    "    {\n",
    "        __objectName__\n",
    "        {\n",
    "            vec1f particleSize 2000 | public | desc \"particle size\"\n",
    "            vec3f particleColor 0.8 1.0 1.0 | public | desc \"particle color\"| widget color_rgb\n",
    "            vec1f particleIntensity 0.001 | public | desc \"alpha for particles\"\n",
    "            vec1i colorType 0 | public | desc \"0: const, 1 color by Temp, 2 color by density\" | widget combo  \"uniform\" 0 \"temperature\" 1 \"density\" 2\n",
    "            vec1f colorScale 1.0 | public\n",
    "            vec2f logTempLims 5.5 8.0 | public\n",
    "            vec2f logDensityLims 3.0 6.5 | public\n",
    "}\n",
    "    }\n",
    "\n",
    "    pass\n",
    "    {\n",
    "        passEnable true\n",
    "        useDataObject spacecrafts\n",
    "\n",
    "        shader \n",
    "        {\n",
    "            type defaultMeshShader\n",
    "            {\n",
    "                vertexShader ./modules/$folderName/LISA.vs\n",
    "                fragmentShader ./modules/$folderName/LISA.fs\n",
    "                geometryShader ./modules/$folderName/LISA.gs\n",
    "\n",
    "                #stateManagerVar __objectName__.Alpha alpha\n",
    "                stateManagerVar __objectName__.particleSize particleSize\n",
    "                stateManagerVar __objectName__.particleColor particleColor\n",
    "                stateManagerVar __objectName__.particleIntensity particleIntensity\n",
    "                stateManagerVar __objectName__.colorType colorType\n",
    "                stateManagerVar __objectName__.colorScale colorScale\n",
    "                stateManagerVar __objectName__.logTempLims logTempLims\n",
    "                stateManagerVar __objectName__.logDensityLims logDensityLims\n",
    "\n",
    "                texture inferno ./modules/$folderName/inferno.png\n",
    "                {\n",
    "                    wrapModeS GL_CLAMP_TO_EDGE\n",
    "                    wrapModeR GL_CLAMP_TO_EDGE\n",
    "                }\n",
    "                texture viridis ./modules/$folderName/viridis.png\n",
    "                {\n",
    "                    wrapModeS GL_CLAMP_TO_EDGE\n",
    "                    wrapModeR GL_CLAMP_TO_EDGE\n",
    "                }\n",
    "                \n",
    "                glState\n",
    "                {\n",
    "                    UV_CULL_FACE_ENABLE false\n",
    "                    UV_DEPTH_ENABLE false\n",
    "                    UV_BLEND_ENABLE true\n",
    "                    UV_BLEND_FUNC GL_SRC_ALPHA GL_ONE\n",
    "                }\n",
    "            }\n",
    "        }\n",
    "    }    \n",
    "}\n",
    "'''"
   ]
  },
  {
   "cell_type": "markdown",
   "metadata": {},
   "source": [
    "### uvSTREAM"
   ]
  },
  {
   "cell_type": "code",
   "execution_count": 4,
   "metadata": {
    "collapsed": true
   },
   "outputs": [],
   "source": [
    "UVSTREAM='''<?xml version=\"1.0\" encoding=\"UTF-8\" standalone=\"no\"?>\n",
    "<DataStream version=\"0.1\">\n",
    "    <PrimitiveType>lines_adjacency</PrimitiveType>\n",
    "    <DataBindings>\n",
    "        <Variable>\n",
    "            <Name>sc1</Name>         \n",
    "            <Type>vec3f</Type>\n",
    "        </Variable>\n",
    "        <Variable>\n",
    "            <Name>sc2</Name>         \n",
    "            <Type>vec3f</Type>\n",
    "        </Variable>             \n",
    "        <Variable>\n",
    "            <Name>sc3</Name>         \n",
    "            <Type>vec3</Type>\n",
    "        </Variable>             \n",
    "        <Variable>\n",
    "            <Name>t1</Name>         \n",
    "            <Type>float</Type>\n",
    "        </Variable>                       \n",
    "    </DataBindings>\n",
    "\n",
    "    <CSVData>\n",
    "        <Path>pt625pt65.csv</Path>\n",
    "        <Headers>\n",
    "            <Variable>              \n",
    "                <Cols>0,1,2</Cols>\n",
    "            </Variable>\n",
    "            <Variable>              \n",
    "                <Cols>3</Cols>\n",
    "            </Variable>                     \n",
    "            <Variable>              \n",
    "                <Cols>4</Cols>\n",
    "            </Variable>                     \n",
    "            <Variable>              \n",
    "                <Cols>5</Cols>\n",
    "            </Variable>                                      \n",
    "        </Headers>\n",
    "    </CSVData>\n",
    "</DataStream>  \n",
    "'''"
   ]
  },
  {
   "cell_type": "code",
   "execution_count": 5,
   "metadata": {
    "collapsed": true
   },
   "outputs": [],
   "source": [
    "uvStreamFile=open('data/wdmerger.uvstream','w')\n",
    "uvStreamFile.write(UVSTREAM)\n",
    "uvStreamFile.close()"
   ]
  },
  {
   "cell_type": "markdown",
   "metadata": {},
   "source": [
    "## WDmerger Class"
   ]
  },
  {
   "cell_type": "code",
   "execution_count": 6,
   "metadata": {
    "collapsed": true
   },
   "outputs": [],
   "source": [
    "class WDmerger():\n",
    "    def __init__(self, object):\n",
    "        self.object = object\n",
    "        uvmod.Utility.ensurerelativepathexsists(\"wdmerger.vs\",dataFolder)\n",
    "        uvmod.Utility.ensurerelativepathexsists(\"wdmerger.fs\",dataFolder)\n",
    "        uvmod.Utility.ensurerelativepathexsists(\"wdmerger.gs\",dataFolder)\n",
    "        self.Scale = 1\n",
    "        self.cr = 1.0e6\n",
    "    def setScale(self,Scale):\n",
    "        self.Scale = Scale\n",
    "    def generatemod(self):\n",
    "        self.object.setgeometry(\"WDmerger.usesconf\")\n",
    "        return self.object.generatemod()\n",
    "    def generatefiles(self, absOutDir, relOutDir):\n",
    "        fileName = \"WDmerger.usesconf\"\n",
    "        s = string.Template(Template)\n",
    "        f = open(absOutDir+\"\\\\\"+fileName, 'w')\n",
    "        if f:\n",
    "            f.write(s.substitute(folderName = relOutDir,\n",
    "                                 cr = self.cr,\n",
    "                                 Scale = self.Scale))\n",
    "            f.close()\n",
    "        uvmod.Utility.copyfoldercontents(os.getcwd()+\"\\\\\"+dataFolder, absOutDir)"
   ]
  },
  {
   "cell_type": "markdown",
   "metadata": {},
   "source": [
    "### Object Instantiation"
   ]
  },
  {
   "cell_type": "code",
   "execution_count": 7,
   "metadata": {
    "collapsed": false
   },
   "outputs": [],
   "source": [
    "model = WDmerger(uvmod.OrbitalObject())\n",
    "generator = uvmod.Generator()\n",
    "scene = uvmod.Scene()\n",
    "parentScene = uvmod.Scene()\n",
    "modinfo = uvmod.ModuleInformation()"
   ]
  },
  {
   "cell_type": "markdown",
   "metadata": {},
   "source": [
    "### Specify Settings and generate the module"
   ]
  },
  {
   "cell_type": "code",
   "execution_count": 8,
   "metadata": {
    "collapsed": false
   },
   "outputs": [],
   "source": [
    "scene.setname(\"WDmerger\")\n",
    "scene.setparent(\"MilkyWay\")\n",
    "scene.setunit(1000.0)\n",
    "scene.setentrydist(100000.)\n",
    "scene.setstaticposition(0,0,100)\n",
    "\n",
    "model.object.setname(\"WDmerger\")\n",
    "model.object.setcoord(scene.name)\n",
    "model.object.setguiname(\"/Milky Way/White Dwarf Merger\")\n",
    "model.object.settargetradius(50000)\n",
    "model.object.setscalefactor(1.0)\n",
    "model.object.showatstartup(False)\n",
    "\n",
    "modinfo.setname(\"White Dwarf Merger\")\n",
    "modinfo.setauthor(\"Chenchong Zhu<sup>1</sup> and Mark SubbaRao<sup>1</sup><br />(1)University of Toronto,<br />(2)Adler Planetarium\")\n",
    "modinfo.cleardependencies()\n",
    "modinfo.setdesc(\"A simulation of two white dwarfs merging.<br />\")\n",
    "modinfo.setthumbnail(\"data/thumbnail.png\")\n",
    "modinfo.setversion(\"1.0\")\n",
    "\n",
    "generator.generate(\"WDmerger\",[scene],[model],modinfo)\n",
    "uvmod.Utility.senduvcommand(model.object.name+\".reload\")"
   ]
  },
  {
   "cell_type": "markdown",
   "metadata": {},
   "source": [
    "### Helper Functions for modifing code\n",
    "##### Reload Module and Shaders in Uniview"
   ]
  },
  {
   "cell_type": "code",
   "execution_count": 9,
   "metadata": {
    "collapsed": false
   },
   "outputs": [],
   "source": [
    "uvmod.Utility.senduvcommand(model.object.name+\".reload\")"
   ]
  },
  {
   "cell_type": "markdown",
   "metadata": {},
   "source": [
    "Copy modified Shader files and reload"
   ]
  },
  {
   "cell_type": "code",
   "execution_count": 10,
   "metadata": {
    "collapsed": false
   },
   "outputs": [],
   "source": [
    "from config import Settings"
   ]
  },
  {
   "cell_type": "code",
   "execution_count": 11,
   "metadata": {
    "collapsed": false,
    "scrolled": true
   },
   "outputs": [],
   "source": [
    "uvmod.Utility.copyfoldercontents(os.getcwd()+\"\\\\\"+dataFolder, Settings.uvcustommodulelocation+'\\\\'+model.object.name)\n",
    "uvmod.Utility.senduvcommand(model.object.name+\".reload\")"
   ]
  },
  {
   "cell_type": "code",
   "execution_count": 12,
   "metadata": {
    "collapsed": false
   },
   "outputs": [
    {
     "data": {
      "text/plain": [
       "'WDmerger'"
      ]
     },
     "execution_count": 12,
     "metadata": {},
     "output_type": "execute_result"
    }
   ],
   "source": [
    "scene.name"
   ]
  },
  {
   "cell_type": "code",
   "execution_count": null,
   "metadata": {
    "collapsed": true
   },
   "outputs": [],
   "source": []
  }
 ],
 "metadata": {
  "anaconda-cloud": {},
  "kernelspec": {
   "display_name": "Python [default]",
   "language": "python",
   "name": "python3"
  },
  "language_info": {
   "codemirror_mode": {
    "name": "ipython",
    "version": 3
   },
   "file_extension": ".py",
   "mimetype": "text/x-python",
   "name": "python",
   "nbconvert_exporter": "python",
   "pygments_lexer": "ipython3",
   "version": "3.5.2"
  }
 },
 "nbformat": 4,
 "nbformat_minor": 0
}
