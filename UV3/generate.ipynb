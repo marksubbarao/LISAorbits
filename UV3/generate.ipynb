{
 "cells": [
  {
   "cell_type": "markdown",
   "metadata": {},
   "source": [
    "### Imports and function definitions"
   ]
  },
  {
   "cell_type": "code",
   "execution_count": 72,
   "metadata": {
    "collapsed": false
   },
   "outputs": [],
   "source": [
    "#This directory contains all the data needed for the module. It should be in the same directory as the notebook\n",
    "dataFolder = \"data\" \n",
    "import sys, os, shutil, errno, string, urllib\n",
    "\n",
    "\n",
    "sys.path.append(( os.path.abspath( os.path.join(os.path.realpath(\"__file__\"),  os.pardir, os.pardir, os.pardir) )))\n",
    "import uvmodlib.v1 as uvmod"
   ]
  },
  {
   "cell_type": "code",
   "execution_count": 73,
   "metadata": {
    "collapsed": true
   },
   "outputs": [],
   "source": [
    "# Run this if you want to build in 3.0 rather than 2.0\n",
    "from config import Settings\n",
    "Settings.uvcustommodulelocation='C:\\\\Users\\\\msubbarao\\\\SCISS\\\\Uniview Theater 3.0\\\\Custom Modules'"
   ]
  },
  {
   "cell_type": "markdown",
   "metadata": {},
   "source": [
    "### USES Conf Templates"
   ]
  },
  {
   "cell_type": "code",
   "execution_count": 74,
   "metadata": {
    "collapsed": true
   },
   "outputs": [],
   "source": [
    "Template='''mesh\n",
    "{\n",
    "    data spacecrafts ./modules/$folderName/LISA.uvstream\n",
    "    dataHints spacecrafts disablePostprocessing\n",
    "\n",
    "    # use a radius to avoid frustum culling\n",
    "    #cullRadius $cr\n",
    "    glslVersion 420 \n",
    "\n",
    "    propertyCollection\n",
    "    {\n",
    "        __objectName__\n",
    "        {\n",
    "            vec3f laserColor 1.0 0.2 0.2 | public | desc \"laser color\" | widget color_rgb\n",
    "            vec1f phaseShift 0.5 | public | desc \"phase wrt Earth\" | widget slider | range 0 1\n",
    "        }\n",
    "    }\n",
    "\n",
    "    pass\n",
    "    {\n",
    "        passEnable true\n",
    "        useDataObject spacecrafts\n",
    "\n",
    "        shader \n",
    "        {\n",
    "            type defaultMeshShader\n",
    "            {\n",
    "                vertexShader ./modules/$folderName/LISA.vs\n",
    "                fragmentShader ./modules/$folderName/LISA.fs\n",
    "                geometryShader ./modules/$folderName/LISA.gs\n",
    "\n",
    "                #stateManagerVar __objectName__.Alpha alpha\n",
    "                stateManagerVar __objectName__.laserColor laserColor\n",
    "                stateManagerVar __objectName__.phaseShift phaseShift\n",
    "                \n",
    "                glState\n",
    "                {\n",
    "                    UV_CULL_FACE_ENABLE false\n",
    "                    UV_DEPTH_ENABLE false\n",
    "                    UV_BLEND_ENABLE true\n",
    "                    UV_LINE_WIDTH 3\n",
    "                    UV_BLEND_FUNC GL_SRC_ALPHA GL_ONE\n",
    "                }\n",
    "            }\n",
    "        }\n",
    "    }    \n",
    "}\n",
    "'''"
   ]
  },
  {
   "cell_type": "markdown",
   "metadata": {},
   "source": [
    "### uvSTREAM"
   ]
  },
  {
   "cell_type": "code",
   "execution_count": 75,
   "metadata": {
    "collapsed": true
   },
   "outputs": [],
   "source": [
    "UVSTREAM='''<?xml version=\"1.0\" encoding=\"UTF-8\" standalone=\"no\"?>\n",
    "<DataStream version=\"0.1\">\n",
    "    <PrimitiveType>lines_adjacency</PrimitiveType>\n",
    "    <DataBindings>\n",
    "        <Variable>\n",
    "            <Name>sc1</Name>         \n",
    "            <Type>vec3f</Type>\n",
    "        </Variable>\n",
    "        <Variable>\n",
    "            <Name>sc2</Name>         \n",
    "            <Type>vec3f</Type>\n",
    "        </Variable>             \n",
    "        <Variable>\n",
    "            <Name>sc3</Name>         \n",
    "            <Type>vec3f</Type>\n",
    "        </Variable>             \n",
    "        <Variable>\n",
    "            <Name>time</Name>         \n",
    "            <Type>float</Type>\n",
    "        </Variable>                       \n",
    "    </DataBindings>\n",
    "\n",
    "    <CSVData>\n",
    "        <Path>spacecrafts.csv</Path>\n",
    "        <Headers>\n",
    "            <Variable>              \n",
    "                <Cols>0,1,2</Cols>\n",
    "            </Variable>\n",
    "            <Variable>              \n",
    "                <Cols>3,4,5</Cols>\n",
    "            </Variable>                     \n",
    "            <Variable>              \n",
    "                <Cols>6,7,8</Cols>\n",
    "            </Variable>                     \n",
    "            <Variable>              \n",
    "                <Cols>9</Cols>\n",
    "            </Variable>                                      \n",
    "        </Headers>\n",
    "    </CSVData>\n",
    "</DataStream>  \n",
    "'''"
   ]
  },
  {
   "cell_type": "code",
   "execution_count": 76,
   "metadata": {
    "collapsed": true
   },
   "outputs": [],
   "source": [
    "uvStreamFile=open('data/LISA.uvstream','w')\n",
    "uvStreamFile.write(UVSTREAM)\n",
    "uvStreamFile.close()"
   ]
  },
  {
   "cell_type": "markdown",
   "metadata": {},
   "source": [
    "## LISA Class"
   ]
  },
  {
   "cell_type": "code",
   "execution_count": 77,
   "metadata": {
    "collapsed": true
   },
   "outputs": [],
   "source": [
    "class LISA():\n",
    "    def __init__(self, object):\n",
    "        self.object = object\n",
    "        uvmod.Utility.ensurerelativepathexsists(\"LISA.vs\",dataFolder)\n",
    "        uvmod.Utility.ensurerelativepathexsists(\"LISA.fs\",dataFolder)\n",
    "        uvmod.Utility.ensurerelativepathexsists(\"LISA.gs\",dataFolder)\n",
    "        self.Scale = 1\n",
    "        self.cr = 1.0e6\n",
    "    def setScale(self,Scale):\n",
    "        self.Scale = Scale\n",
    "    def generatemod(self):\n",
    "        self.object.setgeometry(\"LISA.usesconf\")\n",
    "        return self.object.generatemod()\n",
    "    def generatefiles(self, absOutDir, relOutDir):\n",
    "        fileName = \"LISA.usesconf\"\n",
    "        s = string.Template(Template)\n",
    "        f = open(absOutDir+\"\\\\\"+fileName, 'w')\n",
    "        if f:\n",
    "            f.write(s.substitute(folderName = relOutDir,\n",
    "                                 cr = self.cr,\n",
    "                                 Scale = self.Scale))\n",
    "            f.close()\n",
    "        uvmod.Utility.copyfoldercontents(os.getcwd()+\"\\\\\"+dataFolder, absOutDir)"
   ]
  },
  {
   "cell_type": "markdown",
   "metadata": {},
   "source": [
    "### Object Instantiation"
   ]
  },
  {
   "cell_type": "code",
   "execution_count": 78,
   "metadata": {
    "collapsed": false
   },
   "outputs": [],
   "source": [
    "model = LISA(uvmod.OrbitalObject())\n",
    "generator = uvmod.Generator()\n",
    "scene = uvmod.Scene()\n",
    "parentScene = uvmod.Scene()\n",
    "modinfo = uvmod.ModuleInformation()"
   ]
  },
  {
   "cell_type": "markdown",
   "metadata": {},
   "source": [
    "### Specify Settings and generate the module"
   ]
  },
  {
   "cell_type": "code",
   "execution_count": 79,
   "metadata": {
    "collapsed": false
   },
   "outputs": [
    {
     "name": "stdout",
     "output_type": "stream",
     "text": [
      "Unable to connect to Uniview\n"
     ]
    }
   ],
   "source": [
    "scene.setname(\"LISA\")\n",
    "\n",
    "model.object.setname(\"LISA\")\n",
    "model.object.setcoord(\"SolarSystem\")\n",
    "model.object.setguiname(\"/KavliLecture/Larson/LISA orbits\")\n",
    "model.object.settargetradius(50000)\n",
    "model.object.setscalefactor(1.0)\n",
    "model.object.showatstartup(False)\n",
    "\n",
    "modinfo.setname(\"LISA orbits\")\n",
    "modinfo.setauthor(\"Shane Larson<sup>1</sup> and Mark SubbaRao<sup>1</sup><br />(1)Northwestern University,<br />(2)Adler Planetarium\")\n",
    "modinfo.cleardependencies()\n",
    "modinfo.setdesc(\"potential LISA orbits<br />\")\n",
    "modinfo.setthumbnail(\"data/thumbnail.png\")\n",
    "modinfo.setversion(\"1.0\")\n",
    "\n",
    "generator.generate(\"LISA\",[],[model],modinfo)\n",
    "uvmod.Utility.senduvcommand(model.object.name+\".reload\")"
   ]
  },
  {
   "cell_type": "markdown",
   "metadata": {},
   "source": [
    "### Helper Functions for modifing code\n",
    "##### Reload Module and Shaders in Uniview"
   ]
  },
  {
   "cell_type": "code",
   "execution_count": 20,
   "metadata": {
    "collapsed": false
   },
   "outputs": [],
   "source": [
    "uvmod.Utility.senduvcommand(model.object.name+\".reload\")"
   ]
  },
  {
   "cell_type": "markdown",
   "metadata": {},
   "source": [
    "Copy modified Shader files and reload"
   ]
  },
  {
   "cell_type": "code",
   "execution_count": 21,
   "metadata": {
    "collapsed": false
   },
   "outputs": [],
   "source": [
    "from config import Settings"
   ]
  },
  {
   "cell_type": "code",
   "execution_count": 39,
   "metadata": {
    "collapsed": false,
    "scrolled": true
   },
   "outputs": [],
   "source": [
    "uvmod.Utility.copyfoldercontents(os.getcwd()+\"\\\\\"+dataFolder, Settings.uvcustommodulelocation+'\\\\'+model.object.name)\n",
    "uvmod.Utility.senduvcommand(model.object.name+\".reload\")"
   ]
  },
  {
   "cell_type": "code",
   "execution_count": 71,
   "metadata": {
    "collapsed": false
   },
   "outputs": [
    {
     "data": {
      "text/plain": [
       "'LISA'"
      ]
     },
     "execution_count": 71,
     "metadata": {},
     "output_type": "execute_result"
    }
   ],
   "source": [
    "scene.name"
   ]
  },
  {
   "cell_type": "code",
   "execution_count": null,
   "metadata": {
    "collapsed": true
   },
   "outputs": [],
   "source": []
  }
 ],
 "metadata": {
  "anaconda-cloud": {},
  "kernelspec": {
   "display_name": "Python [default]",
   "language": "python",
   "name": "python3"
  },
  "language_info": {
   "codemirror_mode": {
    "name": "ipython",
    "version": 3
   },
   "file_extension": ".py",
   "mimetype": "text/x-python",
   "name": "python",
   "nbconvert_exporter": "python",
   "pygments_lexer": "ipython3",
   "version": "3.5.2"
  }
 },
 "nbformat": 4,
 "nbformat_minor": 0
}
