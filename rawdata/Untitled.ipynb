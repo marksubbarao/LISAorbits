{
 "cells": [
  {
   "cell_type": "code",
   "execution_count": 2,
   "metadata": {
    "collapsed": true
   },
   "outputs": [],
   "source": [
    "from astropy.table import Table, Column\n",
    "from astropy.io import ascii"
   ]
  },
  {
   "cell_type": "code",
   "execution_count": 7,
   "metadata": {
    "collapsed": false
   },
   "outputs": [],
   "source": [
    "sc1 = ascii.read('spacecraft1.dat')\n",
    "sc2 = ascii.read('spacecraft2.dat')\n",
    "sc3 = ascii.read('spacecraft3.dat')"
   ]
  },
  {
   "cell_type": "code",
   "execution_count": 9,
   "metadata": {
    "collapsed": false
   },
   "outputs": [
    {
     "data": {
      "text/html": [
       "&lt;Table length=73&gt;\n",
       "<table id=\"table2555645233864\" class=\"table-striped table-bordered table-condensed\">\n",
       "<thead><tr><th>idx</th><th>time(s)</th><th>ANOMALY(d)</th><th>R1(AU)</th><th>s1x(m)</th><th>s1y(m)</th><th>s1z(m)</th></tr></thead>\n",
       "<thead><tr><th>int32</th><th>float64</th><th>float64</th><th>float64</th><th>float64</th><th>float64</th><th>float64</th></tr></thead>\n",
       "<tr><td>1</td><td>432000.0</td><td>5.02426</td><td>0.990387</td><td>147570000000.0</td><td>12975500000.0</td><td>-2466460000.0</td></tr>\n",
       "<tr><td>2</td><td>864000.0</td><td>10.0478</td><td>0.990495</td><td>145883000000.0</td><td>25852300000.0</td><td>-2438270000.0</td></tr>\n",
       "<tr><td>3</td><td>1296000.0</td><td>15.0698</td><td>0.990676</td><td>143086000000.0</td><td>38532400000.0</td><td>-2391540000.0</td></tr>\n",
       "<tr><td>4</td><td>1728000.0</td><td>20.0897</td><td>0.990927</td><td>139201000000.0</td><td>50919500000.0</td><td>-2326630000.0</td></tr>\n",
       "<tr><td>5</td><td>2160000.0</td><td>25.1067</td><td>0.991245</td><td>134259000000.0</td><td>62919700000.0</td><td>-2244040000.0</td></tr>\n",
       "<tr><td>6</td><td>2592000.0</td><td>30.1202</td><td>0.99163</td><td>128297000000.0</td><td>74442300000.0</td><td>-2144410000.0</td></tr>\n",
       "<tr><td>7</td><td>3024000.0</td><td>35.1294</td><td>0.992077</td><td>121363000000.0</td><td>85400600000.0</td><td>-2028530000.0</td></tr>\n",
       "<tr><td>8</td><td>3456000.0</td><td>40.1338</td><td>0.992584</td><td>113510000000.0</td><td>95712200000.0</td><td>-1897290000.0</td></tr>\n",
       "<tr><td>9</td><td>3888000.0</td><td>45.1328</td><td>0.993146</td><td>104798000000.0</td><td>105300000000.0</td><td>-1751700000.0</td></tr>\n",
       "<tr><td>10</td><td>4320000.0</td><td>50.126</td><td>0.993759</td><td>95295400000.0</td><td>114093000000.0</td><td>-1592880000.0</td></tr>\n",
       "<tr><td>...</td><td>...</td><td>...</td><td>...</td><td>...</td><td>...</td><td>...</td></tr>\n",
       "<tr><td>64</td><td>27648000.0</td><td>314.618</td><td>0.993175</td><td>104342000000.0</td><td>-105758000000.0</td><td>-1744080000.0</td></tr>\n",
       "<tr><td>65</td><td>28080000.0</td><td>319.617</td><td>0.992611</td><td>113095000000.0</td><td>-96208100000.0</td><td>-1890360000.0</td></tr>\n",
       "<tr><td>66</td><td>28512000.0</td><td>324.621</td><td>0.992101</td><td>120993000000.0</td><td>-85930800000.0</td><td>-2022340000.0</td></tr>\n",
       "<tr><td>67</td><td>28944000.0</td><td>329.63</td><td>0.991651</td><td>127974000000.0</td><td>-75002900000.0</td><td>-2139010000.0</td></tr>\n",
       "<tr><td>68</td><td>29376000.0</td><td>334.643</td><td>0.991263</td><td>133985000000.0</td><td>-63506400000.0</td><td>-2239470000.0</td></tr>\n",
       "<tr><td>69</td><td>29808000.0</td><td>339.66</td><td>0.990941</td><td>138980000000.0</td><td>-51527800000.0</td><td>-2322920000.0</td></tr>\n",
       "<tr><td>70</td><td>30240000.0</td><td>344.68</td><td>0.990687</td><td>142918000000.0</td><td>-39157800000.0</td><td>-2388730000.0</td></tr>\n",
       "<tr><td>71</td><td>30672000.0</td><td>349.702</td><td>0.990503</td><td>145770000000.0</td><td>-26490100000.0</td><td>-2436380000.0</td></tr>\n",
       "<tr><td>72</td><td>31104000.0</td><td>354.725</td><td>0.99039</td><td>147512000000.0</td><td>-13620800000.0</td><td>-2465500000.0</td></tr>\n",
       "<tr><td>73</td><td>31536000.0</td><td>359.749</td><td>0.99035</td><td>148132000000.0</td><td>-647871000.0</td><td>-2475860000.0</td></tr>\n",
       "</table>"
      ],
      "text/plain": [
       "<Table length=73>\n",
       " idx   time(s)   ANOMALY(d) ...     s1x(m)          s1y(m)         s1z(m)   \n",
       "int32  float64    float64   ...    float64         float64        float64   \n",
       "----- ---------- ---------- ... -------------- --------------- -------------\n",
       "    1   432000.0    5.02426 ... 147570000000.0   12975500000.0 -2466460000.0\n",
       "    2   864000.0    10.0478 ... 145883000000.0   25852300000.0 -2438270000.0\n",
       "    3  1296000.0    15.0698 ... 143086000000.0   38532400000.0 -2391540000.0\n",
       "    4  1728000.0    20.0897 ... 139201000000.0   50919500000.0 -2326630000.0\n",
       "    5  2160000.0    25.1067 ... 134259000000.0   62919700000.0 -2244040000.0\n",
       "    6  2592000.0    30.1202 ... 128297000000.0   74442300000.0 -2144410000.0\n",
       "    7  3024000.0    35.1294 ... 121363000000.0   85400600000.0 -2028530000.0\n",
       "    8  3456000.0    40.1338 ... 113510000000.0   95712200000.0 -1897290000.0\n",
       "    9  3888000.0    45.1328 ... 104798000000.0  105300000000.0 -1751700000.0\n",
       "   10  4320000.0     50.126 ...  95295400000.0  114093000000.0 -1592880000.0\n",
       "  ...        ...        ... ...            ...             ...           ...\n",
       "   64 27648000.0    314.618 ... 104342000000.0 -105758000000.0 -1744080000.0\n",
       "   65 28080000.0    319.617 ... 113095000000.0  -96208100000.0 -1890360000.0\n",
       "   66 28512000.0    324.621 ... 120993000000.0  -85930800000.0 -2022340000.0\n",
       "   67 28944000.0     329.63 ... 127974000000.0  -75002900000.0 -2139010000.0\n",
       "   68 29376000.0    334.643 ... 133985000000.0  -63506400000.0 -2239470000.0\n",
       "   69 29808000.0     339.66 ... 138980000000.0  -51527800000.0 -2322920000.0\n",
       "   70 30240000.0     344.68 ... 142918000000.0  -39157800000.0 -2388730000.0\n",
       "   71 30672000.0    349.702 ... 145770000000.0  -26490100000.0 -2436380000.0\n",
       "   72 31104000.0    354.725 ... 147512000000.0  -13620800000.0 -2465500000.0\n",
       "   73 31536000.0    359.749 ... 148132000000.0    -647871000.0 -2475860000.0"
      ]
     },
     "execution_count": 9,
     "metadata": {},
     "output_type": "execute_result"
    }
   ],
   "source": [
    "sc1"
   ]
  },
  {
   "cell_type": "code",
   "execution_count": 10,
   "metadata": {
    "collapsed": false
   },
   "outputs": [
    {
     "data": {
      "text/plain": [
       "147570000000.0"
      ]
     },
     "execution_count": 10,
     "metadata": {},
     "output_type": "execute_result"
    }
   ],
   "source": [
    "sc1['s1x(m)'][0]"
   ]
  },
  {
   "cell_type": "code",
   "execution_count": 20,
   "metadata": {
    "collapsed": true
   },
   "outputs": [],
   "source": [
    "outFile=open('spacecrafts.csv','w')"
   ]
  },
  {
   "cell_type": "code",
   "execution_count": 21,
   "metadata": {
    "collapsed": false
   },
   "outputs": [],
   "source": [
    "for i in range(len(sc1)):\n",
    "    outFile.write('{},{},{},{},{},{},{},{},{},{}\\n'.format(sc1['s1x(m)'][i],sc1['s1y(m)'][i],sc1['s1z(m)'][i],sc2['s2x(m)'][i],sc2['s2y(m)'][i],sc2['s2z(m)'][i],sc3['s3x(m)'][i],sc3['s3y(m)'][i],sc3['s3z(m)'][i],sc1['time(s)'][i]))\n",
    "outFile.close()"
   ]
  },
  {
   "cell_type": "code",
   "execution_count": null,
   "metadata": {
    "collapsed": true
   },
   "outputs": [],
   "source": []
  }
 ],
 "metadata": {
  "anaconda-cloud": {},
  "kernelspec": {
   "display_name": "Python [conda env:Anaconda3]",
   "language": "python",
   "name": "conda-env-Anaconda3-py"
  },
  "language_info": {
   "codemirror_mode": {
    "name": "ipython",
    "version": 3
   },
   "file_extension": ".py",
   "mimetype": "text/x-python",
   "name": "python",
   "nbconvert_exporter": "python",
   "pygments_lexer": "ipython3",
   "version": "3.5.2"
  }
 },
 "nbformat": 4,
 "nbformat_minor": 1
}
